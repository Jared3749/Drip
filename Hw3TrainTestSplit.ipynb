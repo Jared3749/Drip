{
 "cells": [
  {
   "cell_type": "code",
   "execution_count": null,
   "metadata": {},
   "outputs": [],
   "source": [
    "import os\n",
    "import random\n",
    "import csv"
   ]
  },
  {
   "cell_type": "code",
   "execution_count": null,
   "metadata": {},
   "outputs": [],
   "source": [
    "# CHANGE THIS: Path of the UrbanSound8K directory\n",
    "dir_path = r\"./\"\n",
    "\n",
    "os.chdir(dir_path)\n",
    "data_dir_path = \"./audio/\"\n",
    "label_path = \"./metadata/UrbanSound8K.csv\"\n",
    "\n",
    "train_ratio = 0.7"
   ]
  },
  {
   "cell_type": "code",
   "execution_count": null,
   "metadata": {},
   "outputs": [],
   "source": [
    "def list_shuffle(lst, seed=42):\n",
    "    random.seed(seed)\n",
    "    random.shuffle(lst)\n",
    "    return lst"
   ]
  },
  {
   "cell_type": "code",
   "execution_count": null,
   "metadata": {
    "scrolled": true
   },
   "outputs": [],
   "source": [
    "'''\n",
    "Head of UrbanSound8K.csv\n",
    "\n",
    "['slice_file_name', 'fsID', 'start', 'end',\n",
    " 'salience', 'fold', 'classID', 'class']\n",
    " \n",
    "'''\n",
    "\n",
    "with open(label_path, newline='') as f:\n",
    "    reader = csv.reader(f)\n",
    "    data = list(reader)\n",
    "\n",
    "data_info = []\n",
    "for i in range(1,len(data)):\n",
    "    data_info.append([data_dir_path+\"fold\"+data[i][-3]+\"/\"+data[i][0],data[i][-2],data[i][-1]]) \n",
    "\n",
    "with open(\"./raw_data_label.csv\",\"w\",newline='') as f:\n",
    "    writer = csv.writer(f, delimiter=',')\n",
    "    writer.writerow([\"file_path\",\"label\",\"label_name\"])\n",
    "    writer.writerows(data_info)\n",
    "    \n",
    "data_info = list_shuffle(data_info)\n",
    "slice_point = int(len(data_info)*train_ratio)\n",
    "\n",
    "with open(\"./train.csv\",\"w\",newline='') as f:\n",
    "    writer = csv.writer(f, delimiter=',')\n",
    "    writer.writerow([\"file_path\",\"label\",\"label_name\"])\n",
    "    writer.writerows(data_info[0:slice_point])\n",
    "    \n",
    "with open(\"./test.csv\",\"w\",newline='') as f:\n",
    "    writer = csv.writer(f, delimiter=',')\n",
    "    writer.writerow([\"file_path\",\"label\",\"label_name\"])\n",
    "    writer.writerows(data_info[slice_point:])"
   ]
  },
  {
   "cell_type": "code",
   "execution_count": null,
   "metadata": {},
   "outputs": [],
   "source": []
  }
 ],
 "metadata": {
  "kernelspec": {
   "display_name": "Python 3",
   "language": "python",
   "name": "python3"
  },
  "language_info": {
   "codemirror_mode": {
    "name": "ipython",
    "version": 3
   },
   "file_extension": ".py",
   "mimetype": "text/x-python",
   "name": "python",
   "nbconvert_exporter": "python",
   "pygments_lexer": "ipython3",
   "version": "3.7.3"
  },
  "toc": {
   "base_numbering": 1,
   "nav_menu": {},
   "number_sections": true,
   "sideBar": true,
   "skip_h1_title": false,
   "title_cell": "Table of Contents",
   "title_sidebar": "Contents",
   "toc_cell": false,
   "toc_position": {},
   "toc_section_display": true,
   "toc_window_display": false
  }
 },
 "nbformat": 4,
 "nbformat_minor": 5
}
